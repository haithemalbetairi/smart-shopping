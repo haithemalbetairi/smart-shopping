{
    "metadata": {
        "kernelspec": {
            "name": "SQL",
            "display_name": "SQL",
            "language": "sql"
        },
        "language_info": {
            "name": "sql",
            "version": ""
        }
    },
    "nbformat_minor": 2,
    "nbformat": 4,
    "cells": [
        {
            "cell_type": "markdown",
            "source": [
                "# KFUPM Smart Shop Database"
            ],
            "metadata": {
                "language": "sql",
                "azdata_cell_guid": "10420c5f-555f-41c6-91f9-58cebf381849"
            },
            "attachments": {}
        },
        {
            "cell_type": "markdown",
            "source": [
                "MX Project for COE619\n",
                "\n",
                "Author **Haithem Albetairi**\n",
                "\n",
                "[Schema diagram](https:\\dbdiagram.io\\d\\smart-shopping-6546880f7d8bbd64657cd364)"
            ],
            "metadata": {
                "language": "sql",
                "azdata_cell_guid": "c7b49763-f928-4172-8670-afc0da629e23"
            },
            "attachments": {}
        },
        {
            "cell_type": "markdown",
            "source": [
                "## Database Metadata"
            ],
            "metadata": {
                "language": "sql",
                "azdata_cell_guid": "d8d225ec-ea5d-4ebf-9f4f-8f4426d3fcc8"
            },
            "attachments": {}
        },
        {
            "cell_type": "code",
            "source": [
                "SELECT DB_ID()\r\n",
                "SELECT DB_NAME()"
            ],
            "metadata": {
                "language": "sql",
                "azdata_cell_guid": "292f7466-b4e9-4d7e-b195-12a9b137c1c5"
            },
            "outputs": [
                {
                    "output_type": "display_data",
                    "data": {
                        "text/html": "(1 row affected)"
                    },
                    "metadata": {}
                },
                {
                    "output_type": "display_data",
                    "data": {
                        "text/html": "(1 row affected)"
                    },
                    "metadata": {}
                },
                {
                    "output_type": "display_data",
                    "data": {
                        "text/html": "Total execution time: 00:00:00.116"
                    },
                    "metadata": {}
                },
                {
                    "output_type": "execute_result",
                    "execution_count": 26,
                    "data": {
                        "application/vnd.dataresource+json": {
                            "schema": {
                                "fields": [
                                    {
                                        "name": "(No column name)"
                                    }
                                ]
                            },
                            "data": [
                                {
                                    "(No column name)": "5"
                                }
                            ]
                        },
                        "text/html": "<table><tr><th>(No column name)</th></tr><tr><td>5</td></tr></table>"
                    },
                    "metadata": {}
                },
                {
                    "output_type": "execute_result",
                    "execution_count": 26,
                    "data": {
                        "application/vnd.dataresource+json": {
                            "schema": {
                                "fields": [
                                    {
                                        "name": "(No column name)"
                                    }
                                ]
                            },
                            "data": [
                                {
                                    "(No column name)": "kfupm-smart-shop-database"
                                }
                            ]
                        },
                        "text/html": "<table><tr><th>(No column name)</th></tr><tr><td>kfupm-smart-shop-database</td></tr></table>"
                    },
                    "metadata": {}
                }
            ],
            "execution_count": 26
        },
        {
            "cell_type": "markdown",
            "source": [
                "### Primary tables\n",
                "\n",
                "These are the main tables that are needed for core functionality"
            ],
            "metadata": {
                "language": "sql",
                "azdata_cell_guid": "33f8137f-b9ab-4eb1-b688-8d3c4d524215"
            },
            "attachments": {}
        },
        {
            "cell_type": "markdown",
            "source": [
                "## CREATE TABLE"
            ],
            "metadata": {
                "language": "sql",
                "azdata_cell_guid": "016be8bf-85b5-4cdc-9259-8910534d5315"
            },
            "attachments": {}
        },
        {
            "cell_type": "code",
            "source": [
                "CREATE TABLE [Carts] (\r\n",
                "  [CartId] INT NOT NULL PRIMARY KEY,\r\n",
                "  [OrderId] INT,\r\n",
                "  [Total] MONEY NOT NULL DEFAULT 0,\r\n",
                "  [CreatedAt] DATETIME DEFAULT CURRENT_TIMESTAMP,\r\n",
                "  [ModifiedAt] DATETIME DEFAULT CURRENT_TIMESTAMP\r\n",
                ");\r\n",
                "GO\r\n",
                "\r\n",
                "CREATE TABLE [Orders] (\r\n",
                "  [OrderId] INT NOT NULL PRIMARY KEY,\r\n",
                "  [PaymentId] INT UNIQUE,\r\n",
                "  [UserId] INT UNIQUE,\r\n",
                "  [OrderStatus] NVARCHAR(50) CHECK ([OrderStatus] IN ('Complete', 'Cancelled', 'Initial', 'InProcess')),\r\n",
                "  [Total] MONEY NOT NULL,\r\n",
                "  [CreatedAt] DATETIME DEFAULT CURRENT_TIMESTAMP,\r\n",
                "  [ModifiedAt] DATETIME DEFAULT CURRENT_TIMESTAMP\r\n",
                ");\r\n",
                "GO\r\n",
                "\r\n",
                "CREATE TABLE [OrderItems] (\r\n",
                "  [OrderItemsId] INT NOT NULL PRIMARY KEY,\r\n",
                "  [ProductId] INT NOT NULL,\r\n",
                "  [CartId] INT NOT NULL,\r\n",
                "  [Quantity] INT DEFAULT (1),\r\n",
                "  [SaleStatus] NVARCHAR(50) NOT NULL CHECK ([SaleStatus] IN ('Sold', 'ToBeSold'))\r\n",
                ");\r\n",
                "GO\r\n",
                "\r\n",
                "CREATE TABLE [Products] (\r\n",
                "  [ProductId] INT NOT NULL PRIMARY KEY,\r\n",
                "  [Name] NVARCHAR(100),\r\n",
                "  [Price] SMALLMONEY NOT NULL,\r\n",
                "  [Weight] FLOAT,\r\n",
                "  [Size] FLOAT,\r\n",
                "  [StoreId] INT,\r\n",
                "  [Location] NVARCHAR(50),\r\n",
                "  [RestockThreshold] INT,\r\n",
                "  [StockStatus] NVARCHAR(50) NOT NULL CHECK ([StockStatus] IN ('OutOfStock', 'InStock', 'RunningLow')),\r\n",
                "  [CreatedAt] DATETIME DEFAULT CURRENT_TIMESTAMP,\r\n",
                "  [ModifiedAt] DATETIME DEFAULT CURRENT_TIMESTAMP\r\n",
                ");\r\n",
                "GO"
            ],
            "metadata": {
                "language": "sql",
                "azdata_cell_guid": "9f841d9a-b811-4535-8312-9751a1ea58e5"
            },
            "outputs": [
                {
                    "output_type": "display_data",
                    "data": {
                        "text/html": "Commands completed successfully."
                    },
                    "metadata": {}
                },
                {
                    "output_type": "display_data",
                    "data": {
                        "text/html": "Commands completed successfully."
                    },
                    "metadata": {}
                },
                {
                    "output_type": "display_data",
                    "data": {
                        "text/html": "Commands completed successfully."
                    },
                    "metadata": {}
                },
                {
                    "output_type": "display_data",
                    "data": {
                        "text/html": "Commands completed successfully."
                    },
                    "metadata": {}
                },
                {
                    "output_type": "display_data",
                    "data": {
                        "text/html": "Total execution time: 00:00:00.486"
                    },
                    "metadata": {}
                }
            ],
            "execution_count": 15
        },
        {
            "cell_type": "markdown",
            "source": [
                "## ALTER TABLE\n",
                "\n",
                "These rules establish the relationships between the table keys"
            ],
            "metadata": {
                "language": "sql",
                "azdata_cell_guid": "b67c5b7d-f72c-4f27-88fd-6f3471b1cf62"
            },
            "attachments": {}
        },
        {
            "cell_type": "code",
            "source": [
                "ALTER TABLE [Carts] ADD FOREIGN KEY ([OrderId]) REFERENCES [Orders] ([OrderId])\r\n",
                "GO\r\n",
                "\r\n",
                "ALTER TABLE [OrderItems] ADD FOREIGN KEY ([ProductId]) REFERENCES [Products] ([ProductId])\r\n",
                "GO\r\n",
                "\r\n",
                "ALTER TABLE [OrderItems] ADD FOREIGN KEY ([CartId]) REFERENCES [Carts] ([CartId])\r\n",
                "GO"
            ],
            "metadata": {
                "language": "sql",
                "azdata_cell_guid": "7552dd27-fdbe-494b-bb2b-a59ea098f730"
            },
            "outputs": [
                {
                    "output_type": "display_data",
                    "data": {
                        "text/html": "Commands completed successfully."
                    },
                    "metadata": {}
                },
                {
                    "output_type": "display_data",
                    "data": {
                        "text/html": "Commands completed successfully."
                    },
                    "metadata": {}
                },
                {
                    "output_type": "display_data",
                    "data": {
                        "text/html": "Commands completed successfully."
                    },
                    "metadata": {}
                },
                {
                    "output_type": "display_data",
                    "data": {
                        "text/html": "Total execution time: 00:00:00.350"
                    },
                    "metadata": {}
                }
            ],
            "execution_count": 16
        },
        {
            "cell_type": "markdown",
            "source": [
                "## CREATE TRIGGER\n",
                "\n",
                "These triggers handle updating the creation and modification timestamps in each table"
            ],
            "metadata": {
                "language": "sql",
                "azdata_cell_guid": "a9a6a436-3194-40a4-973b-d71415b4f49d"
            },
            "attachments": {}
        },
        {
            "cell_type": "code",
            "source": [
                "CREATE TRIGGER dbo.trgCartAfterUpdate ON dbo.Carts\r\n",
                "AFTER INSERT, UPDATE \r\n",
                "AS\r\n",
                "  UPDATE f set ModifiedAt=GETDATE() \r\n",
                "  FROM \r\n",
                "  dbo.[Carts] AS f \r\n",
                "  INNER JOIN inserted \r\n",
                "  AS i \r\n",
                "  ON f.CartId = i.CartId;"
            ],
            "metadata": {
                "language": "sql",
                "azdata_cell_guid": "b761cac5-38fb-4353-af63-f0540a340333"
            },
            "outputs": [
                {
                    "output_type": "display_data",
                    "data": {
                        "text/html": "Commands completed successfully."
                    },
                    "metadata": {}
                },
                {
                    "output_type": "display_data",
                    "data": {
                        "text/html": "Total execution time: 00:00:00.117"
                    },
                    "metadata": {}
                }
            ],
            "execution_count": 17
        },
        {
            "cell_type": "code",
            "source": [
                "CREATE TRIGGER dbo.trgOrderAfterUpdate ON dbo.Orders\r\n",
                "AFTER INSERT, UPDATE \r\n",
                "AS\r\n",
                "  UPDATE f set ModifiedAt=GETDATE() \r\n",
                "  FROM \r\n",
                "  dbo.[Orders] AS f \r\n",
                "  INNER JOIN inserted \r\n",
                "  AS i \r\n",
                "  ON f.OrderId = i.OrderId;"
            ],
            "metadata": {
                "language": "sql",
                "azdata_cell_guid": "ddf05396-1b9e-4671-b000-8c9b93477a71"
            },
            "outputs": [
                {
                    "output_type": "display_data",
                    "data": {
                        "text/html": "Commands completed successfully."
                    },
                    "metadata": {}
                },
                {
                    "output_type": "display_data",
                    "data": {
                        "text/html": "Total execution time: 00:00:00.117"
                    },
                    "metadata": {}
                }
            ],
            "execution_count": 18
        },
        {
            "cell_type": "code",
            "source": [
                "CREATE TRIGGER dbo.trgProductAfterUpdate ON dbo.Products\r\n",
                "AFTER INSERT, UPDATE \r\n",
                "AS\r\n",
                "  UPDATE f set ModifiedAt=GETDATE() \r\n",
                "  FROM \r\n",
                "  dbo.[Products] AS f \r\n",
                "  INNER JOIN inserted \r\n",
                "  AS i \r\n",
                "  ON f.ProductId = i.ProductId;"
            ],
            "metadata": {
                "language": "sql",
                "azdata_cell_guid": "fccaa1a6-b5f1-4665-ae7e-f46c630ed79f"
            },
            "outputs": [
                {
                    "output_type": "display_data",
                    "data": {
                        "text/html": "Commands completed successfully."
                    },
                    "metadata": {}
                },
                {
                    "output_type": "display_data",
                    "data": {
                        "text/html": "Total execution time: 00:00:00.116"
                    },
                    "metadata": {}
                }
            ],
            "execution_count": 19
        },
        {
            "cell_type": "markdown",
            "source": [
                "## INSERT data\n",
                "\n",
                "Adding sample product data"
            ],
            "metadata": {
                "language": "sql",
                "azdata_cell_guid": "1122122e-5864-46aa-aba0-1f02792b5d4b"
            },
            "attachments": {}
        },
        {
            "cell_type": "code",
            "source": [
                "INSERT INTO dbo.Products (ProductId, Name, StoreId, Price, Weight, Size, RestockThreshold, StockStatus)\r\n",
                "VALUES \r\n",
                "    (239302914, 'Milk', NULL, 2.00, 1000, 1, 1, 'OutOfStock'), \r\n",
                "    (243595378, 'Orange', NULL, 5.75, 30, 6, 10, 'RunningLow'),\r\n",
                "    (303654328, 'Soap', NULL, 5.00, 300, 1, 2, 'InStock'),\r\n",
                "    (430387970, 'Eggs', NULL, 2.50, 78, 12, 4, 'InStock'),\r\n",
                "    (445018514, 'Tomato', NULL, 4.25, 45, 6, 8, 'RunningLow'),\r\n",
                "    (1574889100, 'Shampoo', NULL, 3.50, 750, 1, 3, 'InStock'),\r\n",
                "    (1881380176, 'Lime', NULL, 7.00, 15, 6, 6, 'InStock')"
            ],
            "metadata": {
                "language": "sql",
                "azdata_cell_guid": "9c27b446-9097-4cee-922b-bf02f750c47b"
            },
            "outputs": [
                {
                    "output_type": "display_data",
                    "data": {
                        "text/html": "(7 rows affected)"
                    },
                    "metadata": {}
                },
                {
                    "output_type": "display_data",
                    "data": {
                        "text/html": "(7 rows affected)"
                    },
                    "metadata": {}
                },
                {
                    "output_type": "display_data",
                    "data": {
                        "text/html": "Total execution time: 00:00:00.123"
                    },
                    "metadata": {}
                }
            ],
            "execution_count": 21
        },
        {
            "cell_type": "code",
            "source": [
                "INSERT INTO dbo.Carts (CartID) VALUES (1)"
            ],
            "metadata": {
                "language": "sql",
                "azdata_cell_guid": "010a70db-d7ac-48f3-9d60-2143907aa9c6"
            },
            "outputs": [
                {
                    "output_type": "display_data",
                    "data": {
                        "text/html": "(1 row affected)"
                    },
                    "metadata": {}
                },
                {
                    "output_type": "display_data",
                    "data": {
                        "text/html": "(1 row affected)"
                    },
                    "metadata": {}
                },
                {
                    "output_type": "display_data",
                    "data": {
                        "text/html": "Total execution time: 00:00:00.150"
                    },
                    "metadata": {}
                }
            ],
            "execution_count": 35
        },
        {
            "cell_type": "markdown",
            "source": [
                "Adding primitive order items"
            ],
            "metadata": {
                "language": "sql",
                "azdata_cell_guid": "2fef788e-1fd2-468f-872d-ad2522784233"
            },
            "attachments": {}
        },
        {
            "cell_type": "code",
            "source": [
                "INSERT INTO dbo.OrderItems (OrderItemsId, ProductId, CartId, Quantity, SaleStatus)\r\n",
                "VALUES\r\n",
                "    (1, 239302914, 1, 2, 'ToBeSold'),\r\n",
                "    (2, 430387970, 1, 2, 'ToBeSold')"
            ],
            "metadata": {
                "language": "sql",
                "azdata_cell_guid": "995fd9a5-d8b5-45a0-8523-9b707219d16e"
            },
            "outputs": [
                {
                    "output_type": "display_data",
                    "data": {
                        "text/html": "(2 rows affected)"
                    },
                    "metadata": {}
                },
                {
                    "output_type": "display_data",
                    "data": {
                        "text/html": "Total execution time: 00:00:00.118"
                    },
                    "metadata": {}
                }
            ],
            "execution_count": 36
        },
        {
            "cell_type": "markdown",
            "source": [
                "### Auxiliary Tables\n",
                "\n",
                "These tables help flex out the application"
            ],
            "metadata": {
                "language": "sql",
                "azdata_cell_guid": "2edab183-0cfd-4aab-9544-ca547fbdaf83"
            },
            "attachments": {}
        },
        {
            "cell_type": "markdown",
            "source": [
                "## CREATE TABLE"
            ],
            "metadata": {
                "language": "sql",
                "azdata_cell_guid": "a8da8971-d033-417b-a333-25bfd2e6fb35"
            },
            "attachments": {}
        },
        {
            "cell_type": "code",
            "source": [
                "CREATE TABLE [Addresses] (\r\n",
                "  [AddressId] INT NOT NULL PRIMARY KEY IDENTITY(1, 1),\r\n",
                "  [CountryCode] INT,\r\n",
                "  [PhoneNumber] INT,\r\n",
                "  [PlusCode] NVARCHAR(50),\r\n",
                "  [City] NVARCHAR(50),\r\n",
                "  [State] NVARCHAR(50),\r\n",
                "  [Street1] NVARCHAR(100),\r\n",
                "  [Street2] NVARCHAR(100),\r\n",
                "  [Zipcode] INT\r\n",
                ");\r\n",
                "GO\r\n",
                "\r\n",
                "CREATE TABLE [Countries] (\r\n",
                "  [CountryCode] INT NOT NULL PRIMARY KEY,\r\n",
                "  [Name] NVARCHAR(50),\r\n",
                "  [Continent] NVARCHAR(50),\r\n",
                "  [Region] NVARCHAR(50)\r\n",
                ");\r\n",
                "GO\r\n",
                "\r\n",
                "CREATE TABLE [Payments] (\r\n",
                "  [PaymentID] INT NOT NULL PRIMARY KEY,\r\n",
                "  [PaymentStatus] VARCHAR(50) NOT NULL CHECK ([PaymentStatus] IN ('Paid', 'UnPaid', 'Failed')),\r\n",
                "  [CreatedAt] DATETIME DEFAULT CURRENT_TIMESTAMP,\r\n",
                "  [ModifiedAt] DATETIME DEFAULT CURRENT_TIMESTAMP\r\n",
                ")\r\n",
                "\r\n",
                "CREATE TABLE [PhoneNumbers] (\r\n",
                "  [CountryCode] INT NOT NULL,\r\n",
                "  [PhoneNumber] INT NOT NULL,\r\n",
                "  PRIMARY KEY ([CountryCode], [PhoneNumber])\r\n",
                ");\r\n",
                "GO\r\n",
                "\r\n",
                "CREATE TABLE [ProductExpiration] (\r\n",
                "  [ExpirationId] INT NOT NULL PRIMARY KEY,\r\n",
                "  [ProductId] INT NOT NULL,\r\n",
                "  [ProductionDate] DATETIME DEFAULT CURRENT_TIMESTAMP,\r\n",
                "  [ExpirationDate] datetime\r\n",
                ");\r\n",
                "GO\r\n",
                "\r\n",
                "CREATE TABLE [ProductTags] (\r\n",
                "  [ProductId] INT NOT NULL,\r\n",
                "  [TagId] INT NOT NULL,\r\n",
                "  PRIMARY KEY ([ProductId], [TagId])\r\n",
                ");\r\n",
                "GO\r\n",
                "\r\n",
                "CREATE TABLE [Tags] (\r\n",
                "  [TagId] INT PRIMARY KEY,\r\n",
                "  [Name] NVARCHAR(255)\r\n",
                ");\r\n",
                "GO\r\n",
                "\r\n",
                "CREATE TABLE [Stores] (\r\n",
                "  [StoreId] INT NOT NULL PRIMARY KEY,\r\n",
                "  [AddressId] INT NOT NULL,\r\n",
                "  [MerchantName] NVARCHAR(255),\r\n",
                "  [EstablishedAt] DATETIME,\r\n",
                "  [AdminId] INT\r\n",
                ");\r\n",
                "GO\r\n",
                "\r\n",
                "CREATE TABLE [StorePeriods] (\r\n",
                "  [PeriodId] INT NOT NULL PRIMARY KEY,\r\n",
                "  [StoreId] INT NOT NULL,\r\n",
                "  [StartDate] datetime,\r\n",
                "  [EndDate] datetime\r\n",
                ");\r\n",
                "GO\r\n",
                "\r\n",
                "CREATE TABLE [Users] (\r\n",
                "  [UserId] INT PRIMARY KEY IDENTITY(1, 1),\r\n",
                "  [FullName] NVARCHAR(255),\r\n",
                "  [Email] NVARCHAR(255),\r\n",
                "  [CreatedAt] datetime DEFAULT 'now()',\r\n",
                "  [BillingAddress] INT,\r\n",
                "  [Role] NVARCHAR(255) NOT NULL CHECK ([Role] IN ('Standard', 'Business'))\r\n",
                ");\r\n",
                "GO"
            ],
            "metadata": {
                "azdata_cell_guid": "babc723d-a1bc-4c56-80ea-112423fb3b7c",
                "language": "sql"
            },
            "outputs": [
                {
                    "output_type": "error",
                    "evalue": "Msg 2714, Level 16, State 6, Line 1\r\nThere is already an object named 'Addresses' in the database.",
                    "ename": "",
                    "traceback": []
                },
                {
                    "output_type": "error",
                    "evalue": "Msg 2714, Level 16, State 6, Line 14\r\nThere is already an object named 'Countries' in the database.",
                    "ename": "",
                    "traceback": []
                },
                {
                    "output_type": "error",
                    "evalue": "Msg 2714, Level 16, State 6, Line 22\r\nThere is already an object named 'Payments' in the database.",
                    "ename": "",
                    "traceback": []
                },
                {
                    "output_type": "error",
                    "evalue": "Msg 2714, Level 16, State 6, Line 36\r\nThere is already an object named 'ProductExpiration' in the database.",
                    "ename": "",
                    "traceback": []
                },
                {
                    "output_type": "error",
                    "evalue": "Msg 2714, Level 16, State 6, Line 44\r\nThere is already an object named 'ProductTags' in the database.",
                    "ename": "",
                    "traceback": []
                },
                {
                    "output_type": "error",
                    "evalue": "Msg 2714, Level 16, State 6, Line 51\r\nThere is already an object named 'Tags' in the database.",
                    "ename": "",
                    "traceback": []
                },
                {
                    "output_type": "error",
                    "evalue": "Msg 2714, Level 16, State 6, Line 57\r\nThere is already an object named 'Stores' in the database.",
                    "ename": "",
                    "traceback": []
                },
                {
                    "output_type": "display_data",
                    "data": {
                        "text/html": "Commands completed successfully."
                    },
                    "metadata": {}
                },
                {
                    "output_type": "error",
                    "evalue": "Msg 2714, Level 16, State 6, Line 74\r\nThere is already an object named 'Users' in the database.",
                    "ename": "",
                    "traceback": []
                },
                {
                    "output_type": "display_data",
                    "data": {
                        "text/html": "Total execution time: 00:00:01.086"
                    },
                    "metadata": {}
                }
            ],
            "execution_count": 29
        },
        {
            "cell_type": "markdown",
            "source": [
                "## ALTER TABLE"
            ],
            "metadata": {
                "language": "sql",
                "azdata_cell_guid": "98090075-b43c-4f84-80f6-64c88ad53853"
            },
            "attachments": {}
        },
        {
            "cell_type": "code",
            "source": [
                "ALTER TABLE [Addresses] ADD FOREIGN KEY ([CountryCode], [PhoneNumber]) REFERENCES [PhoneNumbers] ([CountryCode], [PhoneNumber])\r\n",
                "GO\r\n",
                "\r\n",
                "ALTER TABLE [Orders] ADD FOREIGN KEY ([UserId]) REFERENCES [Users] ([UserId])\r\n",
                "GO\r\n",
                "\r\n",
                "ALTER TABLE [Orders] ADD FOREIGN KEY ([PaymentId]) REFERENCES [Payments] ([PaymentId])\r\n",
                "GO\r\n",
                "\r\n",
                "ALTER TABLE [Products] ADD FOREIGN KEY ([StoreId]) REFERENCES [Stores] ([StoreId])\r\n",
                "GO\r\n",
                "\r\n",
                "ALTER TABLE [ProductTags] ADD FOREIGN KEY ([ProductId]) REFERENCES [Products] ([ProductId]);\r\n",
                "GO\r\n",
                "\r\n",
                "ALTER TABLE [ProductTags] ADD FOREIGN KEY ([TagId]) REFERENCES [Tags] ([TagId]);\r\n",
                "GO\r\n",
                "\r\n",
                "ALTER TABLE [Stores] ADD FOREIGN KEY ([AdminId]) REFERENCES [Users] ([UserId])\r\n",
                "GO\r\n",
                "\r\n",
                "ALTER TABLE [StorePeriods] ADD FOREIGN KEY ([StoreId]) REFERENCES [Stores] ([StoreId])\r\n",
                "GO\r\n",
                "\r\n",
                "ALTER TABLE [Users] ADD FOREIGN KEY ([BillingAddress]) REFERENCES [Addresses] ([AddressId])\r\n",
                "GO"
            ],
            "metadata": {
                "language": "sql",
                "azdata_cell_guid": "ee1e1760-0dc2-486d-85d2-53f82028a889"
            },
            "outputs": [
                {
                    "output_type": "display_data",
                    "data": {
                        "text/html": "Commands completed successfully."
                    },
                    "metadata": {}
                },
                {
                    "output_type": "display_data",
                    "data": {
                        "text/html": "Commands completed successfully."
                    },
                    "metadata": {}
                },
                {
                    "output_type": "display_data",
                    "data": {
                        "text/html": "Commands completed successfully."
                    },
                    "metadata": {}
                },
                {
                    "output_type": "display_data",
                    "data": {
                        "text/html": "Commands completed successfully."
                    },
                    "metadata": {}
                },
                {
                    "output_type": "display_data",
                    "data": {
                        "text/html": "Commands completed successfully."
                    },
                    "metadata": {}
                },
                {
                    "output_type": "display_data",
                    "data": {
                        "text/html": "Commands completed successfully."
                    },
                    "metadata": {}
                },
                {
                    "output_type": "display_data",
                    "data": {
                        "text/html": "Commands completed successfully."
                    },
                    "metadata": {}
                },
                {
                    "output_type": "display_data",
                    "data": {
                        "text/html": "Commands completed successfully."
                    },
                    "metadata": {}
                },
                {
                    "output_type": "display_data",
                    "data": {
                        "text/html": "Commands completed successfully."
                    },
                    "metadata": {}
                },
                {
                    "output_type": "display_data",
                    "data": {
                        "text/html": "Total execution time: 00:00:01.050"
                    },
                    "metadata": {}
                }
            ],
            "execution_count": 30
        },
        {
            "cell_type": "markdown",
            "source": [
                "## CREATE INDEX\n",
                "\n",
                "Indecies help speed up searching the database"
            ],
            "metadata": {
                "language": "sql",
                "azdata_cell_guid": "70b62b72-167e-472b-8f1b-4a951677c5c2"
            },
            "attachments": {}
        },
        {
            "cell_type": "code",
            "source": [
                "CREATE UNIQUE INDEX [ProductsIndex] ON [Products] (\"ProductId\")\r\n",
                "GO\r\n",
                "\r\n",
                "CREATE INDEX [ProductStatus] ON [Products] (\"StoreId\", \"StockStatus\")\r\n",
                "GO"
            ],
            "metadata": {
                "language": "sql",
                "azdata_cell_guid": "7e969fc1-9125-4134-9b56-5bbe4292e95c"
            },
            "outputs": [
                {
                    "output_type": "display_data",
                    "data": {
                        "text/html": "Commands completed successfully."
                    },
                    "metadata": {}
                },
                {
                    "output_type": "display_data",
                    "data": {
                        "text/html": "Commands completed successfully."
                    },
                    "metadata": {}
                },
                {
                    "output_type": "display_data",
                    "data": {
                        "text/html": "Total execution time: 00:00:00.265"
                    },
                    "metadata": {}
                }
            ],
            "execution_count": 27
        },
        {
            "cell_type": "markdown",
            "source": [
                "## EXEC\n",
                "\n",
                "Adding descriptions to some table columns"
            ],
            "metadata": {
                "language": "sql",
                "azdata_cell_guid": "7c1a51b5-bf59-4edc-8438-8beaa839e2da"
            },
            "attachments": {}
        },
        {
            "cell_type": "code",
            "source": [
                "EXEC sp_addextendedproperty\r\n",
                "@name = N'Column_Description',\r\n",
                "@value = 'Google Maps plus codes. Example: 8549+8P Dhahran',\r\n",
                "@level0type = N'Schema', @level0name = 'dbo',\r\n",
                "@level1type = N'Table',  @level1name = 'Addresses',\r\n",
                "@level2type = N'Column', @level2name = 'PlusCode';\r\n",
                "GO\r\n",
                "\r\n",
                "EXEC sp_addextendedproperty\r\n",
                "@name = N'Column_Description',\r\n",
                "@value = 'When an order was created',\r\n",
                "@level0type = N'Schema', @level0name = 'dbo',\r\n",
                "@level1type = N'Table',  @level1name = 'Orders',\r\n",
                "@level2type = N'Column', @level2name = 'CreatedAt';\r\n",
                "GO\r\n",
                "\r\n",
                "EXEC sp_addextendedproperty\r\n",
                "@name = N'Column_Description',\r\n",
                "@value = 'VAT registration number',\r\n",
                "@level0type = N'Schema', @level0name = 'dbo',\r\n",
                "@level1type = N'Table',  @level1name = 'StorePeriods',\r\n",
                "@level2type = N'Column', @level2name = 'PeriodId';\r\n",
                "GO"
            ],
            "metadata": {
                "language": "sql",
                "azdata_cell_guid": "ffa37b58-b574-4360-a44f-08b48a9b3ca4"
            },
            "outputs": [
                {
                    "output_type": "display_data",
                    "data": {
                        "text/html": "Commands completed successfully."
                    },
                    "metadata": {}
                },
                {
                    "output_type": "display_data",
                    "data": {
                        "text/html": "Commands completed successfully."
                    },
                    "metadata": {}
                },
                {
                    "output_type": "error",
                    "evalue": "Msg 15135, Level 16, State 8, Procedure sp_addextendedproperty, Line 37\r\nObject is invalid. Extended properties are not permitted on 'dbo.StorePeriods.PeriodId', or the object does not exist.",
                    "ename": "",
                    "traceback": []
                },
                {
                    "output_type": "display_data",
                    "data": {
                        "text/html": "Total execution time: 00:00:00.349"
                    },
                    "metadata": {}
                }
            ],
            "execution_count": 28
        },
        {
            "cell_type": "markdown",
            "source": [
                "## DROP RULE\n",
                "\n",
                "Use this code snippit to unbind table rules before table deletion"
            ],
            "metadata": {
                "language": "sql",
                "azdata_cell_guid": "9f7ab2cf-4ed1-4e2e-ba88-a44eae5169b7"
            },
            "attachments": {}
        },
        {
            "cell_type": "code",
            "source": [
                "sp_unbindrule 'dbo.Cart.OrderId'\r\n",
                "DROP RULE OrderId_rule"
            ],
            "metadata": {
                "language": "sql",
                "azdata_cell_guid": "744a330f-cf3b-42cc-8946-17618dfa8adf"
            },
            "outputs": [],
            "execution_count": null
        },
        {
            "cell_type": "markdown",
            "source": [
                "## DROP DATABASE\n",
                "\n",
                "This code will delete all tables and data from the DB. Use with caution"
            ],
            "metadata": {
                "language": "sql",
                "azdata_cell_guid": "c3e2c482-b942-444c-a66e-36308010eadc"
            },
            "attachments": {}
        },
        {
            "cell_type": "code",
            "source": [
                "-- Drop the database 'kfupm-smart-shop-database'\r\n",
                "-- Connect to the 'master' database to run this snippet\r\n",
                "-- USE master\r\n",
                "-- GO\r\n",
                "-- Uncomment the ALTER DATABASE statement below to set the database to SINGLE_USER mode if the drop database command fails because the database is in use.\r\n",
                "-- ALTER DATABASE kfupm-smart-shop-database SET SINGLE_USER WITH ROLLBACK IMMEDIATE;\r\n",
                "-- Drop the database if it exists\r\n",
                "IF EXISTS (\r\n",
                "    SELECT [name]\r\n",
                "        FROM sys.databases\r\n",
                "        WHERE [name] = N'kfupm-smart-shop-database'\r\n",
                ")\r\n",
                "DROP DATABASE DatabaseName\r\n",
                "GO"
            ],
            "metadata": {
                "language": "sql",
                "azdata_cell_guid": "ba04e4be-ca0b-41bf-ae69-d7bc3cbe7b5a"
            },
            "outputs": [
                {
                    "output_type": "error",
                    "ename": "",
                    "evalue": "Msg 911, Level 16, State 1, Line 13\r\nDatabase 'DatabaseName' does not exist. Make sure that the name is entered correctly.",
                    "traceback": []
                },
                {
                    "output_type": "display_data",
                    "data": {
                        "text/html": "Total execution time: 00:00:10.847"
                    },
                    "metadata": {}
                }
            ],
            "execution_count": 25
        },
        {
            "cell_type": "markdown",
            "source": [
                "## DROP TABLES\n",
                "\n",
                "Same as above but needs to run multiple times to clear column rules"
            ],
            "metadata": {
                "language": "sql",
                "azdata_cell_guid": "2626e25f-3e20-4dbc-a88a-b158f80b4810"
            },
            "attachments": {}
        },
        {
            "cell_type": "code",
            "source": [
                "--DROP TABLE dbo.Carts\r\n",
                "GO\r\n",
                "\r\n",
                "--DROP TABLE dbo.Orders\r\n",
                "GO\r\n",
                "\r\n",
                "--DROP TABLE dbo.OrderItems\r\n",
                "GO\r\n",
                "\r\n",
                "--DROP TABLE dbo.Products\r\n",
                "GO\r\n",
                "\r\n",
                "--DROP TABLE dbo.Addresses\r\n",
                "GO\r\n",
                "\r\n",
                "--DROP TABLE dbo.Countries\r\n",
                "GO\r\n",
                "\r\n",
                "--DROP TABLE dbo.Payments\r\n",
                "GO\r\n",
                "\r\n",
                "--DROP TABLE dbo.PhoneNumbers\r\n",
                "GO\r\n",
                "\r\n",
                "--DROP TABLE dbo.ProductExpiration\r\n",
                "GO\r\n",
                "\r\n",
                "--DROP TABLE dbo.ProductTags\r\n",
                "GO\r\n",
                "\r\n",
                "--DROP TABLE dbo.Tags\r\n",
                "GO\r\n",
                "\r\n",
                "--DROP TABLE dbo.Stores\r\n",
                "GO\r\n",
                "\r\n",
                "--DROP TABLE dbo.StorePeriods\r\n",
                "GO\r\n",
                "\r\n",
                "--DROP TABLE dbo.Users\r\n",
                "GO"
            ],
            "metadata": {
                "language": "sql",
                "azdata_cell_guid": "6c952547-ad6f-4d5b-9126-91c22a206e34"
            },
            "outputs": [
                {
                    "output_type": "display_data",
                    "data": {
                        "text/html": "Commands completed successfully."
                    },
                    "metadata": {}
                },
                {
                    "output_type": "display_data",
                    "data": {
                        "text/html": "Commands completed successfully."
                    },
                    "metadata": {}
                },
                {
                    "output_type": "display_data",
                    "data": {
                        "text/html": "Commands completed successfully."
                    },
                    "metadata": {}
                },
                {
                    "output_type": "display_data",
                    "data": {
                        "text/html": "Commands completed successfully."
                    },
                    "metadata": {}
                },
                {
                    "output_type": "display_data",
                    "data": {
                        "text/html": "Commands completed successfully."
                    },
                    "metadata": {}
                },
                {
                    "output_type": "display_data",
                    "data": {
                        "text/html": "Commands completed successfully."
                    },
                    "metadata": {}
                },
                {
                    "output_type": "display_data",
                    "data": {
                        "text/html": "Commands completed successfully."
                    },
                    "metadata": {}
                },
                {
                    "output_type": "display_data",
                    "data": {
                        "text/html": "Commands completed successfully."
                    },
                    "metadata": {}
                },
                {
                    "output_type": "display_data",
                    "data": {
                        "text/html": "Commands completed successfully."
                    },
                    "metadata": {}
                },
                {
                    "output_type": "display_data",
                    "data": {
                        "text/html": "Commands completed successfully."
                    },
                    "metadata": {}
                },
                {
                    "output_type": "display_data",
                    "data": {
                        "text/html": "Commands completed successfully."
                    },
                    "metadata": {}
                },
                {
                    "output_type": "error",
                    "evalue": "Msg 3726, Level 16, State 1, Line 34\r\nCould not drop object 'dbo.Stores' because it is referenced by a FOREIGN KEY constraint.",
                    "ename": "",
                    "traceback": []
                },
                {
                    "output_type": "error",
                    "evalue": "Msg 3701, Level 11, State 5, Line 37\r\nCannot drop the table 'dbo.StorePeriods', because it does not exist or you do not have permission.",
                    "ename": "",
                    "traceback": []
                },
                {
                    "output_type": "display_data",
                    "data": {
                        "text/html": "Commands completed successfully."
                    },
                    "metadata": {}
                },
                {
                    "output_type": "display_data",
                    "data": {
                        "text/html": "Total execution time: 00:00:01.586"
                    },
                    "metadata": {}
                }
            ],
            "execution_count": 26
        },
        {
            "cell_type": "markdown",
            "source": [
                "## DROP RULE\n",
                "\n",
                "To remove the constraints set on the table columns"
            ],
            "metadata": {
                "language": "sql",
                "azdata_cell_guid": "6d092f22-44b6-4fad-aca5-32a757e24ff3"
            },
            "attachments": {}
        }
    ]
}